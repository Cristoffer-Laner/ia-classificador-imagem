{
	"cells": [
		{
			"cell_type": "code",
			"execution_count": 1,
			"metadata": {},
			"outputs": [
				{
					"name": "stdout",
					"output_type": "stream",
					"text": [
						"Requirement already satisfied: tensorflow in c:\\users\\cris\\anaconda3\\lib\\site-packages (2.14.0)\n",
						"Requirement already satisfied: tensorflow-intel==2.14.0 in c:\\users\\cris\\anaconda3\\lib\\site-packages (from tensorflow) (2.14.0)\n",
						"Requirement already satisfied: absl-py>=1.0.0 in c:\\users\\cris\\anaconda3\\lib\\site-packages (from tensorflow-intel==2.14.0->tensorflow) (2.0.0)\n",
						"Requirement already satisfied: astunparse>=1.6.0 in c:\\users\\cris\\anaconda3\\lib\\site-packages (from tensorflow-intel==2.14.0->tensorflow) (1.6.3)\n",
						"Requirement already satisfied: flatbuffers>=23.5.26 in c:\\users\\cris\\anaconda3\\lib\\site-packages (from tensorflow-intel==2.14.0->tensorflow) (23.5.26)\n",
						"Requirement already satisfied: gast!=0.5.0,!=0.5.1,!=0.5.2,>=0.2.1 in c:\\users\\cris\\anaconda3\\lib\\site-packages (from tensorflow-intel==2.14.0->tensorflow) (0.5.4)\n",
						"Requirement already satisfied: google-pasta>=0.1.1 in c:\\users\\cris\\anaconda3\\lib\\site-packages (from tensorflow-intel==2.14.0->tensorflow) (0.2.0)\n",
						"Requirement already satisfied: h5py>=2.9.0 in c:\\users\\cris\\anaconda3\\lib\\site-packages (from tensorflow-intel==2.14.0->tensorflow) (3.7.0)\n",
						"Requirement already satisfied: libclang>=13.0.0 in c:\\users\\cris\\anaconda3\\lib\\site-packages (from tensorflow-intel==2.14.0->tensorflow) (16.0.6)\n",
						"Requirement already satisfied: ml-dtypes==0.2.0 in c:\\users\\cris\\anaconda3\\lib\\site-packages (from tensorflow-intel==2.14.0->tensorflow) (0.2.0)\n",
						"Requirement already satisfied: numpy>=1.23.5 in c:\\users\\cris\\anaconda3\\lib\\site-packages (from tensorflow-intel==2.14.0->tensorflow) (1.24.3)\n",
						"Requirement already satisfied: opt-einsum>=2.3.2 in c:\\users\\cris\\anaconda3\\lib\\site-packages (from tensorflow-intel==2.14.0->tensorflow) (3.3.0)\n",
						"Requirement already satisfied: packaging in c:\\users\\cris\\anaconda3\\lib\\site-packages (from tensorflow-intel==2.14.0->tensorflow) (23.0)\n",
						"Requirement already satisfied: protobuf!=4.21.0,!=4.21.1,!=4.21.2,!=4.21.3,!=4.21.4,!=4.21.5,<5.0.0dev,>=3.20.3 in c:\\users\\cris\\anaconda3\\lib\\site-packages (from tensorflow-intel==2.14.0->tensorflow) (4.25.0)\n",
						"Requirement already satisfied: setuptools in c:\\users\\cris\\anaconda3\\lib\\site-packages (from tensorflow-intel==2.14.0->tensorflow) (68.0.0)\n",
						"Requirement already satisfied: six>=1.12.0 in c:\\users\\cris\\anaconda3\\lib\\site-packages (from tensorflow-intel==2.14.0->tensorflow) (1.16.0)\n",
						"Requirement already satisfied: termcolor>=1.1.0 in c:\\users\\cris\\anaconda3\\lib\\site-packages (from tensorflow-intel==2.14.0->tensorflow) (2.3.0)\n",
						"Requirement already satisfied: typing-extensions>=3.6.6 in c:\\users\\cris\\anaconda3\\lib\\site-packages (from tensorflow-intel==2.14.0->tensorflow) (4.7.1)\n",
						"Requirement already satisfied: wrapt<1.15,>=1.11.0 in c:\\users\\cris\\anaconda3\\lib\\site-packages (from tensorflow-intel==2.14.0->tensorflow) (1.14.1)\n",
						"Requirement already satisfied: tensorflow-io-gcs-filesystem>=0.23.1 in c:\\users\\cris\\anaconda3\\lib\\site-packages (from tensorflow-intel==2.14.0->tensorflow) (0.31.0)\n",
						"Requirement already satisfied: grpcio<2.0,>=1.24.3 in c:\\users\\cris\\anaconda3\\lib\\site-packages (from tensorflow-intel==2.14.0->tensorflow) (1.59.2)\n",
						"Requirement already satisfied: tensorboard<2.15,>=2.14 in c:\\users\\cris\\anaconda3\\lib\\site-packages (from tensorflow-intel==2.14.0->tensorflow) (2.14.1)\n",
						"Requirement already satisfied: tensorflow-estimator<2.15,>=2.14.0 in c:\\users\\cris\\anaconda3\\lib\\site-packages (from tensorflow-intel==2.14.0->tensorflow) (2.14.0)\n",
						"Requirement already satisfied: keras<2.15,>=2.14.0 in c:\\users\\cris\\anaconda3\\lib\\site-packages (from tensorflow-intel==2.14.0->tensorflow) (2.14.0)\n",
						"Requirement already satisfied: wheel<1.0,>=0.23.0 in c:\\users\\cris\\anaconda3\\lib\\site-packages (from astunparse>=1.6.0->tensorflow-intel==2.14.0->tensorflow) (0.38.4)\n",
						"Requirement already satisfied: google-auth<3,>=1.6.3 in c:\\users\\cris\\anaconda3\\lib\\site-packages (from tensorboard<2.15,>=2.14->tensorflow-intel==2.14.0->tensorflow) (2.23.4)\n",
						"Requirement already satisfied: google-auth-oauthlib<1.1,>=0.5 in c:\\users\\cris\\anaconda3\\lib\\site-packages (from tensorboard<2.15,>=2.14->tensorflow-intel==2.14.0->tensorflow) (1.0.0)\n",
						"Requirement already satisfied: markdown>=2.6.8 in c:\\users\\cris\\anaconda3\\lib\\site-packages (from tensorboard<2.15,>=2.14->tensorflow-intel==2.14.0->tensorflow) (3.4.1)\n",
						"Requirement already satisfied: requests<3,>=2.21.0 in c:\\users\\cris\\anaconda3\\lib\\site-packages (from tensorboard<2.15,>=2.14->tensorflow-intel==2.14.0->tensorflow) (2.31.0)\n",
						"Requirement already satisfied: tensorboard-data-server<0.8.0,>=0.7.0 in c:\\users\\cris\\anaconda3\\lib\\site-packages (from tensorboard<2.15,>=2.14->tensorflow-intel==2.14.0->tensorflow) (0.7.2)\n",
						"Requirement already satisfied: werkzeug>=1.0.1 in c:\\users\\cris\\anaconda3\\lib\\site-packages (from tensorboard<2.15,>=2.14->tensorflow-intel==2.14.0->tensorflow) (2.2.3)\n",
						"Requirement already satisfied: cachetools<6.0,>=2.0.0 in c:\\users\\cris\\anaconda3\\lib\\site-packages (from google-auth<3,>=1.6.3->tensorboard<2.15,>=2.14->tensorflow-intel==2.14.0->tensorflow) (5.3.2)\n",
						"Requirement already satisfied: pyasn1-modules>=0.2.1 in c:\\users\\cris\\anaconda3\\lib\\site-packages (from google-auth<3,>=1.6.3->tensorboard<2.15,>=2.14->tensorflow-intel==2.14.0->tensorflow) (0.2.8)\n",
						"Requirement already satisfied: rsa<5,>=3.1.4 in c:\\users\\cris\\anaconda3\\lib\\site-packages (from google-auth<3,>=1.6.3->tensorboard<2.15,>=2.14->tensorflow-intel==2.14.0->tensorflow) (4.9)\n",
						"Requirement already satisfied: requests-oauthlib>=0.7.0 in c:\\users\\cris\\anaconda3\\lib\\site-packages (from google-auth-oauthlib<1.1,>=0.5->tensorboard<2.15,>=2.14->tensorflow-intel==2.14.0->tensorflow) (1.3.1)\n",
						"Requirement already satisfied: charset-normalizer<4,>=2 in c:\\users\\cris\\anaconda3\\lib\\site-packages (from requests<3,>=2.21.0->tensorboard<2.15,>=2.14->tensorflow-intel==2.14.0->tensorflow) (2.0.4)\n",
						"Requirement already satisfied: idna<4,>=2.5 in c:\\users\\cris\\anaconda3\\lib\\site-packages (from requests<3,>=2.21.0->tensorboard<2.15,>=2.14->tensorflow-intel==2.14.0->tensorflow) (3.4)\n",
						"Requirement already satisfied: urllib3<3,>=1.21.1 in c:\\users\\cris\\anaconda3\\lib\\site-packages (from requests<3,>=2.21.0->tensorboard<2.15,>=2.14->tensorflow-intel==2.14.0->tensorflow) (1.26.16)\n",
						"Requirement already satisfied: certifi>=2017.4.17 in c:\\users\\cris\\anaconda3\\lib\\site-packages (from requests<3,>=2.21.0->tensorboard<2.15,>=2.14->tensorflow-intel==2.14.0->tensorflow) (2023.7.22)\n",
						"Requirement already satisfied: MarkupSafe>=2.1.1 in c:\\users\\cris\\anaconda3\\lib\\site-packages (from werkzeug>=1.0.1->tensorboard<2.15,>=2.14->tensorflow-intel==2.14.0->tensorflow) (2.1.1)\n",
						"Requirement already satisfied: pyasn1<0.5.0,>=0.4.6 in c:\\users\\cris\\anaconda3\\lib\\site-packages (from pyasn1-modules>=0.2.1->google-auth<3,>=1.6.3->tensorboard<2.15,>=2.14->tensorflow-intel==2.14.0->tensorflow) (0.4.8)\n",
						"Requirement already satisfied: oauthlib>=3.0.0 in c:\\users\\cris\\anaconda3\\lib\\site-packages (from requests-oauthlib>=0.7.0->google-auth-oauthlib<1.1,>=0.5->tensorboard<2.15,>=2.14->tensorflow-intel==2.14.0->tensorflow) (3.2.2)\n"
					]
				}
			],
			"source": [
				"!pip install tensorflow"
			]
		},
		{
			"cell_type": "code",
			"execution_count": 2,
			"metadata": {},
			"outputs": [
				{
					"name": "stdout",
					"output_type": "stream",
					"text": [
						"Requirement already satisfied: scipy in c:\\users\\cris\\anaconda3\\lib\\site-packages (1.10.1)\n",
						"Requirement already satisfied: numpy<1.27.0,>=1.19.5 in c:\\users\\cris\\anaconda3\\lib\\site-packages (from scipy) (1.24.3)\n"
					]
				}
			],
			"source": [
				"!pip install scipy"
			]
		},
		{
			"cell_type": "code",
			"execution_count": 3,
			"metadata": {},
			"outputs": [],
			"source": [
				"import tensorflow as tf\n",
				"import scipy, numpy\n",
				"\n",
				"from tensorflow.keras.preprocessing.image import ImageDataGenerator\n",
				"from tensorflow.keras.models import Sequential\n",
				"from tensorflow.keras.layers import Conv2D, MaxPooling2D, Flatten, Dense, Dropout"
			]
		},
		{
			"cell_type": "code",
			"execution_count": 4,
			"metadata": {},
			"outputs": [],
			"source": [
				"# Caminhos para as pastas de dados\n",
				"train_data_dir = './data'\n",
				"batch_size = 32 # ***\n",
				"image_size = (150, 150)\n",
				"num_epochs = 50\n",
				"num_classes = 2"
			]
		},
		{
			"cell_type": "code",
			"execution_count": 5,
			"metadata": {},
			"outputs": [],
			"source": [
				"# Crie geradores de dados de treinamento\n",
				"train_datagen = ImageDataGenerator(\n",
				"    rescale=1.0 / 255, # Normalização das imagens\n",
				"    validation_split=0.25,  # Define a divisão de validação\n",
				"    shear_range=0.2,\n",
				"    zoom_range=0.2,\n",
				"    horizontal_flip=True)    "
			]
		},
		{
			"cell_type": "code",
			"execution_count": 6,
			"metadata": {},
			"outputs": [
				{
					"name": "stdout",
					"output_type": "stream",
					"text": [
						"Found 24 images belonging to 2 classes.\n"
					]
				}
			],
			"source": [
				"train_generator = train_datagen.flow_from_directory(\n",
				"    train_data_dir,\n",
				"    target_size=image_size,\n",
				"    batch_size=batch_size,\n",
				"    class_mode='binary',\n",
				"    subset='training'\n",
				")"
			]
		},
		{
			"cell_type": "code",
			"execution_count": 7,
			"metadata": {},
			"outputs": [
				{
					"name": "stdout",
					"output_type": "stream",
					"text": [
						"Found 8 images belonging to 2 classes.\n"
					]
				}
			],
			"source": [
				"validation_generator = train_datagen.flow_from_directory(\n",
				"    train_data_dir,\n",
				"    target_size=image_size,\n",
				"    batch_size=batch_size,\n",
				"    class_mode='binary',\n",
				"    subset='validation'\n",
				")"
			]
		},
		{
			"cell_type": "code",
			"execution_count": 8,
			"metadata": {},
			"outputs": [],
			"source": [
				"model = Sequential()\n",
				"model.add(Conv2D(32, (3, 3), input_shape=(image_size[0], image_size[1], 3), activation='relu'))\n",
				"model.add(MaxPooling2D(pool_size=(2, 2)))\n",
				"model.add(Conv2D(64, (3, 3), activation='relu'))\n",
				"model.add(MaxPooling2D(pool_size=(2, 2)))\n",
				"model.add(Flatten())\n",
				"model.add(Dense(64, activation='relu'))\n",
				"model.add(Dropout(0.5))\n",
				"model.add(Dense(1, activation='sigmoid'))  # Camada de saída com 1 unidade para classificação binária"
			]
		},
		{
			"cell_type": "code",
			"execution_count": 9,
			"metadata": {},
			"outputs": [],
			"source": [
				"# Compile o modelo\n",
				"model.compile(loss='binary_crossentropy',\n",
				"              optimizer='adam',\n",
				"              metrics=['accuracy'])"
			]
		},
		{
			"cell_type": "code",
			"execution_count": 10,
			"metadata": {},
			"outputs": [
				{
					"name": "stdout",
					"output_type": "stream",
					"text": [
						"Epoch 1/50\n",
						"1/1 [==============================] - 4s 4s/step - loss: 0.6994 - accuracy: 0.5833 - val_loss: 0.9532 - val_accuracy: 0.5000\n",
						"Epoch 2/50\n",
						"1/1 [==============================] - 1s 1s/step - loss: 1.8399 - accuracy: 0.4583 - val_loss: 0.8526 - val_accuracy: 0.5000\n",
						"Epoch 3/50\n",
						"1/1 [==============================] - 2s 2s/step - loss: 1.1735 - accuracy: 0.4167 - val_loss: 0.9290 - val_accuracy: 0.5000\n",
						"Epoch 4/50\n",
						"1/1 [==============================] - 1s 1s/step - loss: 0.9128 - accuracy: 0.5417 - val_loss: 0.7199 - val_accuracy: 0.5000\n",
						"Epoch 5/50\n",
						"1/1 [==============================] - 1s 1s/step - loss: 0.6107 - accuracy: 0.6667 - val_loss: 0.6114 - val_accuracy: 0.8750\n",
						"Epoch 6/50\n",
						"1/1 [==============================] - 2s 2s/step - loss: 0.5619 - accuracy: 0.7083 - val_loss: 0.6061 - val_accuracy: 0.7500\n",
						"Epoch 7/50\n",
						"1/1 [==============================] - 1s 1s/step - loss: 0.5101 - accuracy: 0.9167 - val_loss: 0.5912 - val_accuracy: 0.7500\n",
						"Epoch 8/50\n",
						"1/1 [==============================] - 1s 1s/step - loss: 0.4826 - accuracy: 0.9167 - val_loss: 0.6045 - val_accuracy: 0.6250\n",
						"Epoch 9/50\n",
						"1/1 [==============================] - 1s 1s/step - loss: 0.4794 - accuracy: 0.7500 - val_loss: 0.5483 - val_accuracy: 0.6250\n",
						"Epoch 10/50\n",
						"1/1 [==============================] - 1s 1s/step - loss: 0.3741 - accuracy: 0.8333 - val_loss: 0.5395 - val_accuracy: 0.6250\n",
						"Epoch 11/50\n",
						"1/1 [==============================] - 1s 1s/step - loss: 0.3665 - accuracy: 0.8333 - val_loss: 0.5144 - val_accuracy: 0.7500\n",
						"Epoch 12/50\n",
						"1/1 [==============================] - 2s 2s/step - loss: 0.3520 - accuracy: 0.9167 - val_loss: 0.4150 - val_accuracy: 0.7500\n",
						"Epoch 13/50\n",
						"1/1 [==============================] - 1s 1s/step - loss: 0.2989 - accuracy: 0.9583 - val_loss: 0.3393 - val_accuracy: 0.8750\n",
						"Epoch 14/50\n",
						"1/1 [==============================] - 1s 1s/step - loss: 0.2207 - accuracy: 0.9583 - val_loss: 0.3609 - val_accuracy: 0.8750\n",
						"Epoch 15/50\n",
						"1/1 [==============================] - 1s 1s/step - loss: 0.1500 - accuracy: 0.9583 - val_loss: 0.4282 - val_accuracy: 0.7500\n",
						"Epoch 16/50\n",
						"1/1 [==============================] - 2s 2s/step - loss: 0.1561 - accuracy: 0.9583 - val_loss: 0.2570 - val_accuracy: 0.8750\n",
						"Epoch 17/50\n",
						"1/1 [==============================] - 2s 2s/step - loss: 0.1529 - accuracy: 0.9583 - val_loss: 0.2006 - val_accuracy: 0.8750\n",
						"Epoch 18/50\n",
						"1/1 [==============================] - 1s 1s/step - loss: 0.1448 - accuracy: 0.9583 - val_loss: 0.4748 - val_accuracy: 0.7500\n",
						"Epoch 19/50\n",
						"1/1 [==============================] - 2s 2s/step - loss: 0.1466 - accuracy: 0.9583 - val_loss: 0.8304 - val_accuracy: 0.7500\n",
						"Epoch 20/50\n",
						"1/1 [==============================] - 2s 2s/step - loss: 0.0751 - accuracy: 1.0000 - val_loss: 0.7976 - val_accuracy: 0.7500\n",
						"Epoch 21/50\n",
						"1/1 [==============================] - 1s 1s/step - loss: 0.1607 - accuracy: 0.9167 - val_loss: 0.1415 - val_accuracy: 1.0000\n",
						"Epoch 22/50\n",
						"1/1 [==============================] - 2s 2s/step - loss: 0.2087 - accuracy: 0.9167 - val_loss: 0.1758 - val_accuracy: 1.0000\n",
						"Epoch 23/50\n",
						"1/1 [==============================] - 1s 1s/step - loss: 0.1633 - accuracy: 0.8750 - val_loss: 0.2725 - val_accuracy: 0.8750\n",
						"Epoch 24/50\n",
						"1/1 [==============================] - 1s 1s/step - loss: 0.0605 - accuracy: 1.0000 - val_loss: 0.3296 - val_accuracy: 0.7500\n",
						"Epoch 25/50\n",
						"1/1 [==============================] - 1s 1s/step - loss: 0.0550 - accuracy: 1.0000 - val_loss: 0.4033 - val_accuracy: 0.8750\n",
						"Epoch 26/50\n",
						"1/1 [==============================] - 1s 1s/step - loss: 0.1135 - accuracy: 1.0000 - val_loss: 0.5436 - val_accuracy: 0.7500\n",
						"Epoch 27/50\n",
						"1/1 [==============================] - 1s 1s/step - loss: 0.0811 - accuracy: 1.0000 - val_loss: 0.3277 - val_accuracy: 0.8750\n",
						"Epoch 28/50\n",
						"1/1 [==============================] - 1s 1s/step - loss: 0.0594 - accuracy: 1.0000 - val_loss: 0.1876 - val_accuracy: 1.0000\n",
						"Epoch 29/50\n",
						"1/1 [==============================] - 1s 1s/step - loss: 0.0640 - accuracy: 1.0000 - val_loss: 0.2667 - val_accuracy: 0.8750\n",
						"Epoch 30/50\n",
						"1/1 [==============================] - 1s 1s/step - loss: 0.1560 - accuracy: 0.9583 - val_loss: 0.6283 - val_accuracy: 0.7500\n",
						"Epoch 31/50\n",
						"1/1 [==============================] - 1s 1s/step - loss: 0.0653 - accuracy: 1.0000 - val_loss: 0.5548 - val_accuracy: 0.7500\n",
						"Epoch 32/50\n",
						"1/1 [==============================] - 1s 1s/step - loss: 0.0995 - accuracy: 0.9583 - val_loss: 0.9729 - val_accuracy: 0.7500\n",
						"Epoch 33/50\n",
						"1/1 [==============================] - 1s 1s/step - loss: 0.0316 - accuracy: 1.0000 - val_loss: 0.1833 - val_accuracy: 0.8750\n",
						"Epoch 34/50\n",
						"1/1 [==============================] - 1s 1s/step - loss: 0.0681 - accuracy: 0.9583 - val_loss: 0.3292 - val_accuracy: 0.8750\n",
						"Epoch 35/50\n",
						"1/1 [==============================] - 1s 1s/step - loss: 0.0299 - accuracy: 1.0000 - val_loss: 0.1337 - val_accuracy: 1.0000\n",
						"Epoch 36/50\n",
						"1/1 [==============================] - 1s 1s/step - loss: 0.0428 - accuracy: 1.0000 - val_loss: 0.1897 - val_accuracy: 0.8750\n",
						"Epoch 37/50\n",
						"1/1 [==============================] - 1s 1s/step - loss: 0.0374 - accuracy: 1.0000 - val_loss: 0.6016 - val_accuracy: 0.8750\n",
						"Epoch 38/50\n",
						"1/1 [==============================] - 1s 1s/step - loss: 0.0118 - accuracy: 1.0000 - val_loss: 0.4726 - val_accuracy: 0.7500\n",
						"Epoch 39/50\n",
						"1/1 [==============================] - 1s 1s/step - loss: 0.0615 - accuracy: 0.9583 - val_loss: 0.2790 - val_accuracy: 0.8750\n",
						"Epoch 40/50\n",
						"1/1 [==============================] - 1s 1s/step - loss: 0.0356 - accuracy: 1.0000 - val_loss: 1.2300 - val_accuracy: 0.7500\n",
						"Epoch 41/50\n",
						"1/1 [==============================] - 2s 2s/step - loss: 0.0390 - accuracy: 1.0000 - val_loss: 0.3644 - val_accuracy: 0.7500\n",
						"Epoch 42/50\n",
						"1/1 [==============================] - 1s 1s/step - loss: 0.0186 - accuracy: 1.0000 - val_loss: 0.1272 - val_accuracy: 1.0000\n",
						"Epoch 43/50\n",
						"1/1 [==============================] - 1s 1s/step - loss: 0.0234 - accuracy: 1.0000 - val_loss: 0.6773 - val_accuracy: 0.7500\n",
						"Epoch 44/50\n",
						"1/1 [==============================] - 1s 1s/step - loss: 0.0075 - accuracy: 1.0000 - val_loss: 0.3945 - val_accuracy: 0.8750\n",
						"Epoch 45/50\n",
						"1/1 [==============================] - 1s 1s/step - loss: 0.0613 - accuracy: 0.9583 - val_loss: 0.8414 - val_accuracy: 0.7500\n",
						"Epoch 46/50\n",
						"1/1 [==============================] - 1s 1s/step - loss: 0.0222 - accuracy: 1.0000 - val_loss: 0.4646 - val_accuracy: 0.8750\n",
						"Epoch 47/50\n",
						"1/1 [==============================] - 1s 1s/step - loss: 0.0510 - accuracy: 0.9583 - val_loss: 0.8590 - val_accuracy: 0.7500\n",
						"Epoch 48/50\n",
						"1/1 [==============================] - 1s 1s/step - loss: 0.0165 - accuracy: 1.0000 - val_loss: 0.3745 - val_accuracy: 0.7500\n",
						"Epoch 49/50\n",
						"1/1 [==============================] - 2s 2s/step - loss: 0.0036 - accuracy: 1.0000 - val_loss: 0.8561 - val_accuracy: 0.7500\n",
						"Epoch 50/50\n",
						"1/1 [==============================] - 2s 2s/step - loss: 0.0416 - accuracy: 1.0000 - val_loss: 1.3036 - val_accuracy: 0.7500\n"
					]
				},
				{
					"name": "stderr",
					"output_type": "stream",
					"text": [
						"c:\\Users\\CRIS\\anaconda3\\Lib\\site-packages\\keras\\src\\engine\\training.py:3079: UserWarning: You are saving your model as an HDF5 file via `model.save()`. This file format is considered legacy. We recommend using instead the native Keras format, e.g. `model.save('my_model.keras')`.\n",
						"  saving_api.save_model(\n"
					]
				},
				{
					"name": "stdout",
					"output_type": "stream",
					"text": [
						"Modelo salvo com sucesso!\n"
					]
				}
			],
			"source": [
				"# Treine o modelo\n",
				"model.fit(\n",
				"    train_generator,\n",
				"    epochs=num_epochs,\n",
				"    validation_data=validation_generator)\n",
				"\n",
				"# Salve o modelo treinados\n",
				"model.save('./models/cfModeloCarroXCaminhao.h5')\n",
				"\n",
				"print('Modelo salvo com sucesso!')"
			]
		}
	],
	"metadata": {
		"kernelspec": {
			"display_name": "base",
			"language": "python",
			"name": "python3"
		},
		"language_info": {
			"codemirror_mode": {
				"name": "ipython",
				"version": 3
			},
			"file_extension": ".py",
			"mimetype": "text/x-python",
			"name": "python",
			"nbconvert_exporter": "python",
			"pygments_lexer": "ipython3",
			"version": "3.11.4"
		}
	},
	"nbformat": 4,
	"nbformat_minor": 2
}
