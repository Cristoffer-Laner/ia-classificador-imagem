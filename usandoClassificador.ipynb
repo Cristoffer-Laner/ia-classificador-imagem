{
	"cells": [
		{
			"cell_type": "code",
			"execution_count": 1,
			"metadata": {},
			"outputs": [],
			"source": [
				"import os\n",
				"import tensorflow as tf\n",
				"from tensorflow.keras.preprocessing import image\n",
				"import numpy as np"
			]
		},
		{
			"cell_type": "code",
			"execution_count": 3,
			"metadata": {},
			"outputs": [
				{
					"name": "stdout",
					"output_type": "stream",
					"text": [
						"1/1 [==============================] - 0s 277ms/step\n"
					]
				}
			],
			"source": [
				"# Carregue o modelo treinado\n",
				"model = tf.keras.models.load_model('./models/cfModeloCarroXCaminhao.h5')\n",
				"\n",
				"# Carregue uma nova imagem para classificação\n",
				"new_image_path = './test/001_teste-caminhão-1.jpg'  # Substitua 'nova_imagem.jpg' pelo nome da sua nova imagem\n",
				"\n",
				"# Pré-processe a nova imagem\n",
				"img = image.load_img(new_image_path, target_size=(150, 150))\n",
				"img = image.img_to_array(img)\n",
				"img = np.expand_dims(img, axis=0)\n",
				"img = img / 255.0  # Normalize a imagem (igual ao pré-processamento durante o treinamento)\n",
				"\n",
				"# Faça a previsão usando o modelo carregado\n",
				"prediction = model.predict(img)"
			]
		},
		{
			"cell_type": "code",
			"execution_count": 4,
			"metadata": {},
			"outputs": [
				{
					"name": "stdout",
					"output_type": "stream",
					"text": [
						"3.48\n",
						"Classe 0, um porco\n"
					]
				}
			],
			"source": [
				"# Classifique a previsão\n",
				"print(f'%.2f' % (prediction * 100))\n",
				"\n",
				"if prediction < 0.5:\n",
				"    print(\"Caminhão\")  # Defina a classe correspondente\n",
				"else:\n",
				"    print(\"Carro\")  # Defina a classe correspondente\n"
			]
		},
		{
			"cell_type": "code",
			"execution_count": 6,
			"metadata": {},
			"outputs": [
				{
					"name": "stdout",
					"output_type": "stream",
					"text": [
						"001_teste-caminhão-1.jpg\n",
						"1/1 [==============================] - 0s 70ms/step\n",
						"Caminhão\n",
						"0.03\n",
						"\n",
						"001_teste-caminhão-2.jpg\n",
						"1/1 [==============================] - 0s 108ms/step\n",
						"Carro\n",
						"0.99\n",
						"\n",
						"001_teste-caminhão-3.jpg\n",
						"1/1 [==============================] - 0s 51ms/step\n",
						"Caminhão\n",
						"0.01\n",
						"\n",
						"001_teste-caminhão-4.jpg\n",
						"1/1 [==============================] - 0s 67ms/step\n",
						"Caminhão\n",
						"0.00\n",
						"\n",
						"001_teste-carro-1.jpg\n",
						"1/1 [==============================] - 0s 52ms/step\n",
						"Carro\n",
						"0.65\n",
						"\n",
						"001_teste-carro-2.jpg\n",
						"1/1 [==============================] - 0s 68ms/step\n",
						"Carro\n",
						"1.00\n",
						"\n",
						"001_teste-carro-3.jpg\n",
						"1/1 [==============================] - 0s 57ms/step\n",
						"Carro\n",
						"1.00\n",
						"\n",
						"001_teste-carro-4.jpg\n",
						"1/1 [==============================] - 0s 52ms/step\n",
						"Carro\n",
						"1.00\n",
						"\n"
					]
				}
			],
			"source": [
				"# Diretório de imagens de teste\n",
				"test_directory = './test'  # Substitua 'data/test' pelo caminho para a pasta de teste\n",
				"\n",
				"# Percorra todas as imagens na pasta de teste\n",
				"for filename in os.listdir(test_directory):\n",
				"    if filename.endswith(\".jpg\") or filename.endswith(\".jpeg\"):\n",
				"        print(filename)\n",
				"        # Caminho completo para a imagem de teste\n",
				"        image_path = os.path.join(test_directory, filename)\n",
				"\n",
				"        # Pré-processe a imagem de teste\n",
				"        img = image.load_img(image_path, target_size=(150, 150))\n",
				"        img = image.img_to_array(img)\n",
				"        img = np.expand_dims(img, axis=0)\n",
				"        img = img / 255.0  # Normalize a imagem (igual ao pré-processamento durante o treinamento)\n",
				"\n",
				"        # Faça a previsão usando o modelo carregado\n",
				"        prediction = model.predict(img)\n",
				"\n",
				"        if prediction < 0.5:\n",
				"            print(\"Caminhão\")  # Defina a classe correspondente\n",
				"        else:\n",
				"            print(\"Carro\")  # Defina a classe correspondente\n",
				"                # Classifique a previsão\n",
				"        print(f'%.2f\\n' % (prediction))"
			]
		}
	],
	"metadata": {
		"kernelspec": {
			"display_name": "base",
			"language": "python",
			"name": "python3"
		},
		"language_info": {
			"codemirror_mode": {
				"name": "ipython",
				"version": 3
			},
			"file_extension": ".py",
			"mimetype": "text/x-python",
			"name": "python",
			"nbconvert_exporter": "python",
			"pygments_lexer": "ipython3",
			"version": "3.11.4"
		}
	},
	"nbformat": 4,
	"nbformat_minor": 2
}
